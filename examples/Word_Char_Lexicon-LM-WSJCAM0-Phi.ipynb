{
 "cells": [
  {
   "cell_type": "markdown",
   "metadata": {},
   "source": [
    "# Setup notebook, imports and predefined functions"
   ]
  },
  {
   "cell_type": "markdown",
   "metadata": {},
   "source": [
    "## Notebook magics"
   ]
  },
  {
   "cell_type": "code",
   "execution_count": 1,
   "metadata": {
    "collapsed": false
   },
   "outputs": [],
   "source": [
    "%load_ext autoreload\n",
    "%autoreload 2"
   ]
  },
  {
   "cell_type": "markdown",
   "metadata": {},
   "source": [
    "## Some imports"
   ]
  },
  {
   "cell_type": "code",
   "execution_count": 2,
   "metadata": {
    "collapsed": true
   },
   "outputs": [],
   "source": [
    "from nhpylm.lexicon import build_fst_for_lexicon\n",
    "from nhpylm import fst\n",
    "import os\n",
    "from nhpylm.c_core import nhpylm\n",
    "from tqdm import tqdm\n",
    "from nhpylm.kaldi_data_preparation import convert_transcription, word_to_grapheme\n",
    "import json\n",
    "from nhpylm import json_utils as ju"
   ]
  },
  {
   "cell_type": "markdown",
   "metadata": {},
   "source": [
    "## Output directory"
   ]
  },
  {
   "cell_type": "code",
   "execution_count": 3,
   "metadata": {
    "collapsed": true
   },
   "outputs": [],
   "source": [
    "output_directory = 'lattice_playground/wcl-l-wsjcam0-p/'\n",
    "os.makedirs(output_directory, exist_ok=True)"
   ]
  },
  {
   "cell_type": "markdown",
   "metadata": {},
   "source": [
    "## Some predefined functions"
   ]
  },
  {
   "cell_type": "markdown",
   "metadata": {},
   "source": [
    "### Combined write and print/display function"
   ]
  },
  {
   "cell_type": "code",
   "execution_count": 4,
   "metadata": {
    "collapsed": false
   },
   "outputs": [],
   "source": [
    "def write_and_print_fst(fst_graph, fst_filename, sym_filename, **kwargs):\n",
    "    print_fst_kwargs = {'determinize': False}\n",
    "    print_fst_kwargs.update(kwargs)\n",
    "    fst_graph.write_fst(fst_filename, **print_fst_kwargs)\n",
    "    return fst.print(fst_filename, sym_filename, sym_filename)"
   ]
  },
  {
   "cell_type": "markdown",
   "metadata": {},
   "source": [
    "### Convert a list of sentences to a list of list of list of units:"
   ]
  },
  {
   "cell_type": "code",
   "execution_count": 5,
   "metadata": {
    "collapsed": false
   },
   "outputs": [],
   "source": [
    "def text_to_splitted_words(text):\n",
    "    return [convert_transcription(line, word_to_units=word_to_grapheme(join=False))[1] for line in text]"
   ]
  },
  {
   "cell_type": "markdown",
   "metadata": {},
   "source": [
    "### Return all unique units from the converted sentences"
   ]
  },
  {
   "cell_type": "code",
   "execution_count": 6,
   "metadata": {
    "collapsed": false
   },
   "outputs": [],
   "source": [
    "def find_symbols(text):\n",
    "    return {symbol for line in text for word in line for symbol in word}"
   ]
  },
  {
   "cell_type": "markdown",
   "metadata": {},
   "source": [
    "### Write a symbol list to a symbol file mapping all symbols to integers from 1 to N_symbols"
   ]
  },
  {
   "cell_type": "code",
   "execution_count": 7,
   "metadata": {
    "collapsed": false
   },
   "outputs": [],
   "source": [
    "def write_symbols(symbols, sym_file):\n",
    "    with open(sym_file, 'w') as fid:\n",
    "        for i, s in enumerate(symbols):\n",
    "            fid.write('{} {}\\n'.format(s, i))"
   ]
  },
  {
   "cell_type": "markdown",
   "metadata": {},
   "source": [
    "### Return all unique words from list of sentences"
   ]
  },
  {
   "cell_type": "code",
   "execution_count": 8,
   "metadata": {
    "collapsed": true
   },
   "outputs": [],
   "source": [
    "def find_words(text):\n",
    "    return {word for line in text for word in line.split()}"
   ]
  },
  {
   "cell_type": "markdown",
   "metadata": {},
   "source": [
    "# Database setup"
   ]
  },
  {
   "cell_type": "markdown",
   "metadata": {},
   "source": [
    "## Database file and paths"
   ]
  },
  {
   "cell_type": "code",
   "execution_count": 9,
   "metadata": {
    "collapsed": true
   },
   "outputs": [],
   "source": [
    "database_file = '/net/storage/database_jsons/reverb.json'\n",
    "train_flist = 'train/flists/wav/si_tr'\n",
    "test_flist = 'dev/flists/wav/si_dt5b'\n",
    "tlist = 'orth'\n",
    "channels = ['observed/CH1']"
   ]
  },
  {
   "cell_type": "markdown",
   "metadata": {},
   "source": [
    "## Load database (filelist and transcription)"
   ]
  },
  {
   "cell_type": "code",
   "execution_count": 10,
   "metadata": {
    "collapsed": false
   },
   "outputs": [],
   "source": [
    "with open(database_file) as fid:\n",
    "    database = json.load(fid)\n",
    "\n",
    "train_files = ju.traverse_to_dict(database, train_flist)\n",
    "train_files_for_channel = {channel: ju.get_flist_for_channel(train_files, channel) for channel in channels}\n",
    "test_files = ju.traverse_to_dict(database, test_flist)\n",
    "test_files_for_channel = {channel: ju.get_flist_for_channel(test_files, channel) for channel in channels}\n",
    "transcriptions = ju.traverse_to_dict(database, tlist)"
   ]
  },
  {
   "cell_type": "markdown",
   "metadata": {},
   "source": [
    "# Get train data, split into characters and get symbols"
   ]
  },
  {
   "cell_type": "code",
   "execution_count": 11,
   "metadata": {
    "collapsed": false
   },
   "outputs": [],
   "source": [
    "train_data = [transcriptions[key] for key in train_files_for_channel[channels[0]].keys()]\n",
    "train_data_splitted = text_to_splitted_words(train_data)\n",
    "symbols = find_symbols(train_data_splitted)"
   ]
  },
  {
   "cell_type": "markdown",
   "metadata": {},
   "source": [
    "# Instantiate LM, add training sentences and resample hyper parameters"
   ]
  },
  {
   "cell_type": "code",
   "execution_count": 12,
   "metadata": {
    "collapsed": false
   },
   "outputs": [
    {
     "name": "stderr",
     "output_type": "stream",
     "text": []
    }
   ],
   "source": [
    "lm = nhpylm.NHPYLM_wrapper(list(symbols), 2, 8)\n",
    "\n",
    "train_data_ids = lm.word_lists_to_id_lists(train_data_splitted)\n",
    "for line in tqdm(train_data_ids):\n",
    "    lm.add_id_sentence_to_lm(line)\n",
    "    \n",
    "lm.resample_hyperparameters()"
   ]
  },
  {
   "cell_type": "markdown",
   "metadata": {},
   "source": [
    "# Write symbol file"
   ]
  },
  {
   "cell_type": "code",
   "execution_count": 13,
   "metadata": {
    "collapsed": false
   },
   "outputs": [],
   "source": [
    "sym_filename = output_directory + 'symbols.txt'\n",
    "word_list = lm.string_ids\n",
    "\n",
    "write_symbols(word_list, sym_filename)"
   ]
  },
  {
   "cell_type": "markdown",
   "metadata": {},
   "source": [
    "# Get int versions of lexicon an labels"
   ]
  },
  {
   "cell_type": "code",
   "execution_count": 14,
   "metadata": {
    "collapsed": true
   },
   "outputs": [],
   "source": [
    "int_lexicon = lm.get_word_id_to_char_id()\n",
    "int_eos_word = lm.sentence_boundary_id\n",
    "int_labels = lm.get_char_ids()\n",
    "int_eps = lm.sym2id('EPS')\n",
    "int_eow = lm.sym2id('EOW')\n",
    "int_eoc = lm.sym2id('EOC')\n",
    "int_phi = lm.sym2id('PHI')\n",
    "int_eos_label = lm.sym2id('EOS')"
   ]
  },
  {
   "cell_type": "markdown",
   "metadata": {},
   "source": [
    "# Build and write FST for lexicon"
   ]
  },
  {
   "cell_type": "code",
   "execution_count": 15,
   "metadata": {
    "collapsed": false
   },
   "outputs": [
    {
     "name": "stderr",
     "output_type": "stream",
     "text": []
    }
   ],
   "source": [
    "L_fst_filename = output_directory + 'L.fst'\n",
    "mode = 'trie'\n",
    "build_character_model = True\n",
    "fst_lexicon = build_fst_for_lexicon(int_lexicon, int_eps, int_eow, build_character_model,\n",
    "                                    mode, int_labels, eoc=int_eoc)\n",
    "fst_lexicon.add_eos(int_eos_label, int_eos_word)\n",
    "fst_lexicon.write_fst(L_fst_filename, minimize=False, determinize=False)"
   ]
  },
  {
   "cell_type": "markdown",
   "metadata": {},
   "source": [
    "# Get FST for language model"
   ]
  },
  {
   "cell_type": "code",
   "execution_count": 16,
   "metadata": {
    "collapsed": false
   },
   "outputs": [
    {
     "name": "stderr",
     "output_type": "stream",
     "text": []
    }
   ],
   "source": [
    "G_fst_filename = output_directory + 'G.fst'\n",
    "_, arc_list = lm.to_fst_text_format(eow=int_eoc)\n",
    "G_fst = fst.build_fst_from_arc_list(arc_list)\n",
    "G_fst.write_fst(G_fst_filename, minimize=False, determinize=False, rmepsilon=False)"
   ]
  },
  {
   "cell_type": "markdown",
   "metadata": {},
   "source": [
    "# Character sequence"
   ]
  },
  {
   "cell_type": "markdown",
   "metadata": {},
   "source": [
    "## Get test data"
   ]
  },
  {
   "cell_type": "code",
   "execution_count": 17,
   "metadata": {
    "collapsed": false
   },
   "outputs": [],
   "source": [
    "test_data = [transcriptions[key] for key in test_files_for_channel[channels[0]].keys()]"
   ]
  },
  {
   "cell_type": "markdown",
   "metadata": {},
   "source": [
    "## Some character sequence"
   ]
  },
  {
   "cell_type": "code",
   "execution_count": 18,
   "metadata": {
    "collapsed": false
   },
   "outputs": [],
   "source": [
    "character_sequence = ''.join(test_data[121].split())"
   ]
  },
  {
   "cell_type": "markdown",
   "metadata": {},
   "source": [
    "## Build and print FST for character sequence"
   ]
  },
  {
   "cell_type": "code",
   "execution_count": 19,
   "metadata": {
    "collapsed": false
   },
   "outputs": [
    {
     "data": {
      "text/html": [
       "<iframe src=\"lattice_playground/wcl-l-wsjcam0-p/I.fst.pdf\" width=1000 height=400></iframe>"
      ],
      "text/latex": [
       "\\includegraphics[width=1.0\\textwidth]{lattice_playground/wcl-l-wsjcam0-p/I.fst.pdf}"
      ],
      "text/plain": [
       "<nhpylm.display_pdf.PDF at 0x7f34a2a86c50>"
      ]
     },
     "execution_count": 19,
     "metadata": {},
     "output_type": "execute_result"
    }
   ],
   "source": [
    "int_sequence = [lm.sym2id(character) for character in character_sequence]\n",
    "\n",
    "I_fst_filename = output_directory + 'I.fst'\n",
    "character_sequence_fst = fst.build_fst_for_sequence(int_sequence + [int_eos_label])\n",
    "write_and_print_fst(character_sequence_fst, I_fst_filename, sym_filename, minimize=False, determinize=False)"
   ]
  },
  {
   "cell_type": "markdown",
   "metadata": {},
   "source": [
    "## Add loops for word end/disambigutity symbols (eow and eoc)"
   ]
  },
  {
   "cell_type": "code",
   "execution_count": 20,
   "metadata": {
    "collapsed": false
   },
   "outputs": [
    {
     "data": {
      "text/html": [
       "<iframe src=\"lattice_playground/wcl-l-wsjcam0-p/I_loop.fst.pdf\" width=1000 height=400></iframe>"
      ],
      "text/latex": [
       "\\includegraphics[width=1.0\\textwidth]{lattice_playground/wcl-l-wsjcam0-p/I_loop.fst.pdf}"
      ],
      "text/plain": [
       "<nhpylm.display_pdf.PDF at 0x7f34a2a86f28>"
      ]
     },
     "execution_count": 20,
     "metadata": {},
     "output_type": "execute_result"
    }
   ],
   "source": [
    "I_loop_fst_filename = output_directory + 'I_loop.fst'\n",
    "character_sequence_fst.add_self_loops(int_eps, int_eow, int_eow, mode='after')\n",
    "character_sequence_fst.add_self_loops(int_eps, int_eoc, int_eoc, mode='after')\n",
    "write_and_print_fst(character_sequence_fst, I_loop_fst_filename, sym_filename, minimize=False, determinize=False)"
   ]
  },
  {
   "cell_type": "markdown",
   "metadata": {},
   "source": [
    "# Do the final compositions"
   ]
  },
  {
   "cell_type": "markdown",
   "metadata": {},
   "source": [
    "## Compose lexicon and input sequence FST"
   ]
  },
  {
   "cell_type": "code",
   "execution_count": 21,
   "metadata": {
    "collapsed": false
   },
   "outputs": [
    {
     "data": {
      "text/html": [
       "<iframe src=\"lattice_playground/wcl-l-wsjcam0-p/I_loop_L.fst.pdf\" width=1000 height=400></iframe>"
      ],
      "text/latex": [
       "\\includegraphics[width=1.0\\textwidth]{lattice_playground/wcl-l-wsjcam0-p/I_loop_L.fst.pdf}"
      ],
      "text/plain": [
       "<nhpylm.display_pdf.PDF at 0x7f34a2a86d68>"
      ]
     },
     "execution_count": 21,
     "metadata": {},
     "output_type": "execute_result"
    }
   ],
   "source": [
    "I_loop_L_fst_filename = output_directory + 'I_loop_L.fst'\n",
    "fst.compose(I_loop_fst_filename, L_fst_filename, I_loop_L_fst_filename,\n",
    "            determinize=False, minimize=False, rmepsilon=False, sort_type=\"olabel\")\n",
    "fst.print(I_loop_L_fst_filename, sym_filename, sym_filename)"
   ]
  },
  {
   "cell_type": "markdown",
   "metadata": {},
   "source": [
    "## Compose lexicon and input sequence FST with language model FST"
   ]
  },
  {
   "cell_type": "code",
   "execution_count": 22,
   "metadata": {
    "collapsed": false
   },
   "outputs": [
    {
     "data": {
      "text/html": [
       "<iframe src=\"lattice_playground/wcl-l-wsjcam0-p/I_loop_L_G.fst.pdf\" width=1000 height=400></iframe>"
      ],
      "text/latex": [
       "\\includegraphics[width=1.0\\textwidth]{lattice_playground/wcl-l-wsjcam0-p/I_loop_L_G.fst.pdf}"
      ],
      "text/plain": [
       "<nhpylm.display_pdf.PDF at 0x7f34a2a86978>"
      ]
     },
     "execution_count": 22,
     "metadata": {},
     "output_type": "execute_result"
    }
   ],
   "source": [
    "I_loop_L_G_fst_filename = output_directory + 'I_loop_L_G.fst'\n",
    "fst.compose(I_loop_L_fst_filename, G_fst_filename, I_loop_L_G_fst_filename,\n",
    "            determinize=False, minimize=False, rmepsilon=False, phi=int_phi)\n",
    "fst.print(I_loop_L_G_fst_filename, sym_filename, sym_filename)"
   ]
  },
  {
   "cell_type": "markdown",
   "metadata": {},
   "source": [
    "## Get shortest path(s)"
   ]
  },
  {
   "cell_type": "code",
   "execution_count": 23,
   "metadata": {
    "collapsed": false
   },
   "outputs": [
    {
     "data": {
      "text/html": [
       "<iframe src=\"lattice_playground/wcl-l-wsjcam0-p/I_loop_L_G_shortestpath.fst.pdf\" width=1000 height=400></iframe>"
      ],
      "text/latex": [
       "\\includegraphics[width=1.0\\textwidth]{lattice_playground/wcl-l-wsjcam0-p/I_loop_L_G_shortestpath.fst.pdf}"
      ],
      "text/plain": [
       "<nhpylm.display_pdf.PDF at 0x7f34a2a86e10>"
      ]
     },
     "execution_count": 23,
     "metadata": {},
     "output_type": "execute_result"
    }
   ],
   "source": [
    "I_loop_L_G_shortestpath_fst_filename = output_directory + 'I_loop_L_G_shortestpath.fst'\n",
    "fst.shortestpath(I_loop_L_G_fst_filename, I_loop_L_G_shortestpath_fst_filename, nshortest=1,\n",
    "            determinize=False, minimize=False, rmepsilon=True, project=True, project_output=True)\n",
    "fst.print(I_loop_L_G_shortestpath_fst_filename, sym_filename, sym_filename)"
   ]
  },
  {
   "cell_type": "markdown",
   "metadata": {},
   "source": [
    "# Get a list of training words and print out the test sentences with new words"
   ]
  },
  {
   "cell_type": "code",
   "execution_count": 24,
   "metadata": {
    "collapsed": true
   },
   "outputs": [],
   "source": [
    "train_words = find_words(train_data)"
   ]
  },
  {
   "cell_type": "code",
   "execution_count": 25,
   "metadata": {
    "collapsed": false
   },
   "outputs": [
    {
     "name": "stdout",
     "output_type": "stream",
     "text": [
      "9 --> CLINTON: GOVERNOR CLINTON INSISTS THAT VOTERS WILL ACCEPT TAX INCREASES IF YOU CAN SHOW THEM WHERE THE MONEY WILL GO\n",
      "19 --> ALEXANDER'S: THE STORE ACCOUNTED FOR ABOUT THREE PERCENT OF ALEXANDER'S REVENUE IN THE YEAR ENDED JULY TWENTY FIFTH\n",
      "20 --> AVERAGED: BUT THIS WAS PURCHASED AT A PRICE OF INFLATION THAT AVERAGED MORE THAN EIGHT PERCENT FOR THE DECADE\n",
      "21 --> DIALS: THEN THOSE FRIENDLY PEOPLE IN WASHINGTON COULD JUST TURN A FEW DIALS AND WE'D GET FASTER GROWTH AND STABLE PRICES\n",
      "23 --> COLECO: COLECO IS IN A SEVERE CASH SQUEEZE\n",
      "24 --> INTERVENTION: HE SAID HOWEVER THAT THE SUCCESS OF ANY INTERVENTION IS A MATTER OF JUDGMENT BECAUSE OF THE QUESTION OF WHAT WOULD'VE HAPPENED HADN'T WE BEEN THERE\n",
      "24 --> WOULD'VE: HE SAID HOWEVER THAT THE SUCCESS OF ANY INTERVENTION IS A MATTER OF JUDGMENT BECAUSE OF THE QUESTION OF WHAT WOULD'VE HAPPENED HADN'T WE BEEN THERE\n",
      "34 --> STONE: MR. STONE WILL CONTINUE AS PRESIDENT OF THE FEDERATED DEPARTMENT STORES FOUNDATION A CHARITABLE ORGANIZATION\n",
      "34 --> CHARITABLE: MR. STONE WILL CONTINUE AS PRESIDENT OF THE FEDERATED DEPARTMENT STORES FOUNDATION A CHARITABLE ORGANIZATION\n",
      "35 --> JAMMING: HE ATTRIBUTED THE INDUSTRY SLUMP IN RECENT YEARS TO A LOT OF PRODUCTS JAMMING INTO THE MARKETPLACE IN A SHORT PERIOD\n",
      "35 --> MARKETPLACE: HE ATTRIBUTED THE INDUSTRY SLUMP IN RECENT YEARS TO A LOT OF PRODUCTS JAMMING INTO THE MARKETPLACE IN A SHORT PERIOD\n",
      "45 --> INTERNATIONAL'S: THE ISSUE WILL INCREASE NEWS INTERNATIONAL'S SPECIAL DIVIDEND SHARES OUTSTANDING ABOUT SIX POINT EIGHT PERCENT TO FORTY TWO POINT FIVE MILLION SHARES\n",
      "48 --> PAYOUT: OUR EARNINGS ARE GOOD AND WE WANT THE PAYOUT RATE TO INCREASE OVER TIME A SPOKESWOMAN FOR THE DETROIT BANK HOLDING COMPANY SAID\n",
      "59 --> ADAMANT: BUT ALTHOUGH GROUND RULES FOR FUTURE TALKS WERE DISCUSSED THE UNIONS REMAINED ADAMANT THAT THEY WOULDN'T REOPEN THEIR CONTRACTS\n",
      "61 --> PRIVATIZATION: INITIAL WALL STREET ENTHUSIASM HAS SURPRISED EVEN PRIVATIZATION ADVOCATES\n",
      "61 --> ADVOCATES: INITIAL WALL STREET ENTHUSIASM HAS SURPRISED EVEN PRIVATIZATION ADVOCATES\n",
      "68 --> PULP: THE PULP WILL BE USED TO PRODUCE NEWSPRINT\n",
      "69 --> WHERE'S: WHERE'S THE PROBLEM IN THAT\n",
      "84 --> ELDERLY: YOU CAN DO IT FOR EDUCATION AND YOU CAN PROBABLY DO IT FOR JOBS AND MAYBE HEALTH CARE FOR ELDERLY AND KIDS\n",
      "85 --> STEELMAKER: L. T. V. THE NATION'S NUMBER TWO STEELMAKER SAID THE SALE IS AMONG A NUMBER OF OPTIONS UNDER STUDY FOR THE PLANT\n",
      "87 --> UNEXPECTED: HOWEVER SOME ANALYSTS ABANDONED THEIR FORECASTS OF LOWER RATES MARCH FOURTH AFTER THE LABOR DEPARTMENT REPORTED AN UNEXPECTED SURGE IN EMPLOYMENT IN FEBRUARY\n",
      "88 --> UNEXPECTED: AND NEW HARDWARE SUCH AS THE SET OF PERSONAL COMPUTERS I. B. M. INTRODUCED LAST WEEK CAN LEAD TO UNEXPECTED CHANGES IN THE SOFTWARE BUSINESS\n",
      "90 --> CUMULATIVE: FLORIDA POWER CORPORATION SAID IT WOULD OFFER FIVE HUNDRED THOUSAND SHARES OF CUMULATIVE PREFERRED STOCK SEVEN POINT EIGHT FOUR PERCENT SERIES AT ONE HUNDRED DOLLARS A SHARE\n",
      "101 --> DUMB: AND IF I DID HOW COULD YOU THINK I'D BE DUMB ENOUGH TO DO IT WITH OTHER PEOPLE\n",
      "106 --> REPRESENTED: YOU HAVE TO ASSUME THAT THE U. S. GOVERNMENT IS WELL REPRESENTED HERE\n",
      "113 --> DRIFTING: WE JUST SEEM TO BE DRIFTING TO LOWER LEVELS\n",
      "115 --> TALENT: EVERY POSITION SHOULD HAVE OUTSIDE TALENT INCLUDED IN THE SELECTION PROCESS\n",
      "120 --> PERFORMING: AND EVEN SUCH STRONG PERFORMING DIVISIONS AS LIMITED EXPRESS WHICH CATERS TO YOUNG WOMEN HAD TO RELY ON PROMOTIONS\n",
      "120 --> CATERS: AND EVEN SUCH STRONG PERFORMING DIVISIONS AS LIMITED EXPRESS WHICH CATERS TO YOUNG WOMEN HAD TO RELY ON PROMOTIONS\n",
      "122 --> JEAN: WE DON'T WANT I. B. M. TO HAVE AN ADVANTAGE FROM THE START SAYS JEAN BERNARD LEVY A COUNSELOR TO FRANCE'S POST AND TELECOMMUNICATIONS MINISTER\n",
      "122 --> BERNARD: WE DON'T WANT I. B. M. TO HAVE AN ADVANTAGE FROM THE START SAYS JEAN BERNARD LEVY A COUNSELOR TO FRANCE'S POST AND TELECOMMUNICATIONS MINISTER\n",
      "122 --> COUNSELOR: WE DON'T WANT I. B. M. TO HAVE AN ADVANTAGE FROM THE START SAYS JEAN BERNARD LEVY A COUNSELOR TO FRANCE'S POST AND TELECOMMUNICATIONS MINISTER\n",
      "122 --> FRANCE'S: WE DON'T WANT I. B. M. TO HAVE AN ADVANTAGE FROM THE START SAYS JEAN BERNARD LEVY A COUNSELOR TO FRANCE'S POST AND TELECOMMUNICATIONS MINISTER\n",
      "124 --> INTERAGENCY: MR. BRADY SAID THE FIVE PAGE STATEMENT ISN'T AIMED AT THE INTERAGENCY WORKING GROUP\n",
      "131 --> DOWNGRADES: ALSO THE NUMBER OF DOWNGRADES FOR EVERY UPGRADE GREW TO ONE POINT SEVEN FIVE\n",
      "131 --> UPGRADE: ALSO THE NUMBER OF DOWNGRADES FOR EVERY UPGRADE GREW TO ONE POINT SEVEN FIVE\n",
      "138 --> KNOPF: LAST NOVEMBER ALFRED A. KNOPF INCORPORATED THE BOOK PUBLISHER NAMED MS. AMSTERDAM A SENIOR EDITOR\n",
      "140 --> CHANNEL: ON FEBRUARY FIRST THE UNIT BEGAN OPERATING THE TRAVEL CHANNEL A T. W. A. HOME SHOPPING SERVICE ON CABLE TELEVISION\n",
      "147 --> TAIWAN: ADDITIONAL PRODUCTION HAS BEEN MOVED OFFSHORE TO TAIWAN SOUTH KOREA AND OTHER DEVELOPING COUNTRIES AS WELL AS TO THE U. S.\n",
      "149 --> MIX: THE BROADER THE MIX THE BETTER\n",
      "158 --> SEXY: THERE'S NOTHING SEXY ABOUT IT\n",
      "161 --> RESEMBLE: EACH INDEX WOULD RESEMBLE AN OPEN ENDED MUTUAL FUND THE REPORT SAID\n",
      "162 --> CALENDAR: G. M. CHAIRMAN ROGER SMITH SAID IT'S POSSIBLE FOR THE AUTO MAKER TO REACH A FORTY PERCENT MARKET SHARE IN CALENDAR NINETEEN EIGHTY EIGHT\n",
      "166 --> HONEYWELL: HONEYWELL ENDED UNCHANGED AT SIXTY FOUR AND SEVEN EIGHTHS\n",
      "172 --> DATES: NO DATES FOR FUTURE MEETINGS WERE SET\n",
      "175 --> NARROWER: THE NARROWER THIRTY SHARE INDEX SLID TWENTY SIX POINT EIGHT TO ONE THOUSAND FOUR HUNDRED SIXTY EIGHT POINT ONE\n",
      "176 --> ABSORB: THE MARKET HAD TO ABSORB IT AND NOW IT'S READY TO MOVE FORWARD\n",
      "185 --> IMMIGRATION: MANUFACTURERS ALSO ARE URGING THE GOVERNMENT TO EASE IMMIGRATION RULES SO THEY CAN IMPORT WORKERS FROM NEIGHBORING COUNTRIES\n",
      "185 --> NEIGHBORING: MANUFACTURERS ALSO ARE URGING THE GOVERNMENT TO EASE IMMIGRATION RULES SO THEY CAN IMPORT WORKERS FROM NEIGHBORING COUNTRIES\n",
      "188 --> FORWARDS: THE FIGURES INCLUDED A CREDIT OF TWENTY THREE POINT FIVE MILLION DOLLARS OR FOURTEEN CENTS A SHARE FROM TAX LOSS CARRY FORWARDS\n",
      "189 --> PILOTS: EASTERN EXECUTIVES MET FOR ABOUT AN HOUR LAST WEEK WITH LEADERS OF THE FLIGHT ATTENDANTS AND PILOTS UNIONS\n",
      "191 --> HILTON: HILTON IS BASED IN BEVERLY HILLS CALIFORNIA\n",
      "194 --> ANDRUSKEVICH: THERE ARE A LOT OF WEALTHY PEOPLE OUT THERE SAID MR. ANDRUSKEVICH\n",
      "196 --> PREDICTIONS: WHEN ASKED ABOUT PREDICTIONS THAT MR. VOLCKER WILL BE REAPPOINTED THE OFFICIAL SAID I WOULDN'T TRY TO LEAD YOU OFF THAT\n",
      "196 --> REAPPOINTED: WHEN ASKED ABOUT PREDICTIONS THAT MR. VOLCKER WILL BE REAPPOINTED THE OFFICIAL SAID I WOULDN'T TRY TO LEAD YOU OFF THAT\n",
      "205 --> CONCEDE: BUT CONISTON REFUSED TO CONCEDE DEFEAT AND WILL SEEK A RECOUNT\n",
      "205 --> RECOUNT: BUT CONISTON REFUSED TO CONCEDE DEFEAT AND WILL SEEK A RECOUNT\n",
      "212 --> SWEARINGEN: MR. SWEARINGEN SIXTY EIGHT YEARS OLD HAS SAID HE WANTS TO RETIRE THIS SUMMER\n",
      "213 --> MACK: THE SOURCES SAID MACK ALSO WILL HAVE AN INTEREST IN THE PROJECT\n",
      "219 --> BRANFORD: THE BRANFORD CONNECTICUT BASED COMPANY HAD STOCK OFFERINGS IN NINETEEN EIGHTY SIX AND NINETEEN EIGHTY SEVEN TO REDUCE DEBT\n",
      "223 --> CLEANERS: DRY CLEANERS\n",
      "224 --> PETERSBURG: THE UNDERWRITER WILL BE KIDDER PEABODY AND COMPANY FLORIDA POWER IS BASED IN SAINT PETERSBURG\n",
      "226 --> STONE: MR. STONE FIFTY NINE WILL ALSO RETIRE AS A DIRECTOR\n",
      "242 --> INVESTS: TWO IT INVESTS IN CONVERTIBLE BONDS AND PREFERRED STOCK\n",
      "261 --> TWENTIES: THE AIRLINE A UNIT OF THE NEW YORK BASED PAN AM CORPORATION HAS SIXTEEN A. THREE TWENTIES ON ORDER\n",
      "277 --> ABSORB: SINCE THERE ARE NO BUYERS AROUND TO ABSORB WHATEVER SELLING TAKES PLACE THERE'S NO BARGAIN HUNTING\n",
      "277 --> HUNTING: SINCE THERE ARE NO BUYERS AROUND TO ABSORB WHATEVER SELLING TAKES PLACE THERE'S NO BARGAIN HUNTING\n",
      "278 --> SOMERVILLE: WITH SOUND ECONOMIC POLICIES WE SHOULD EVENTUALLY BE ABLE TO FINANCE OURSELVES IN THE FREE MARKET MR. SOMERVILLE SAID\n",
      "279 --> SHARPEST: THE INCREASE THE SHARPEST SINCE JANUARY RENEWED WORRIES ABOUT INFLATION\n",
      "282 --> BARRIERS: PREPARING FOR ITS NINETEEN NINETY TWO DEADLINE THE E. C. RECENTLY AGREED TO DROP BARRIERS TO CROSS BORDER CAPITAL FLOWS\n",
      "289 --> MULTINATIONAL: A RELATED PROVISION THAT BENEFITS MULTINATIONAL COMPANIES EXPIRES IN AUGUST NINETEEN EIGHTY SEVEN\n",
      "290 --> GAS'S: SAN DIEGO GAS'S COMMON ROSE SIXTY TWO POINT FIVE CENTS A SHARE TO CLOSE AT THIRTY FOUR POINT SIX TWO FIVE DOLLARS IN NEW YORK STOCK EXCHANGE COMPOSITE TRADING FRIDAY\n",
      "292 --> DOWNGRADED: IN NINETEEN EIGHTY SIX LESS THAN ONE RATING WAS DOWNGRADED FOR EACH UPGRADE\n",
      "292 --> UPGRADE: IN NINETEEN EIGHTY SIX LESS THAN ONE RATING WAS DOWNGRADED FOR EACH UPGRADE\n",
      "297 --> CHANNEL'S: THE CHANNEL'S PROGRAMMING INCLUDES TRAVEL NEWS FEATURES GAME SHOWS AND COMMERCIALS THAT PROMOTE DISCOUNT AIR FARES AND HOTEL AND TOUR PACKAGES\n",
      "326 --> VERSA: FOR YEARS I THOUGHT WHAT WAS GOOD FOR OUR COUNTRY WAS GOOD FOR GENERAL MOTORS AND VICE VERSA\n",
      "335 --> FLEMING: MR. FLEMING DECLINED TO NAME ANY POTENTIAL SUITOR\n",
      "335 --> SUITOR: MR. FLEMING DECLINED TO NAME ANY POTENTIAL SUITOR\n",
      "337 --> JIMMY: WHEN JIMMY CARTER FINALLY CALLED MR. VOLCKER TO THE RESCUE IN NINETEEN SEVENTY NINE INFLATION WAS RUNNING AT MORE THAN THIRTEEN PERCENT\n",
      "338 --> SWAPPED: THE REST WILL BE SWAPPED FOR EIGHT YEAR SENIOR SUBORDINATED NOTES PAYING TEN POINT SEVEN FIVE PERCENT ANNUAL INTEREST\n",
      "353 --> POSTAL: AND NOT ONE HAS PROVED TO BE AS RELIABLE AND COST EFFECTIVE IN MEETING CUSTOMERS' NEEDS AS THE U. S. POSTAL SERVICE SHE SAID\n",
      "356 --> ENORMOUSLY: DREXEL IS A NEW YORK BASED INVESTMENT BANKING FIRM BUT ITS ENORMOUSLY PROFITABLE JUNK BOND OPERATIONS ARE BASED HERE\n",
      "357 --> NORTHERN'S: BURLINGTON NORTHERN'S RESOURCES UNIT SAID IT PLANS TO SELL ITS MAJORITY INTEREST IN THE COMPANY FOR TWENTY THREE DOLLARS A SHARE\n",
      "361 --> SMART: BUT MR. SMART SAYS THE JAPANESE MUST DO MORE TO OPEN THEIR MARKETS TO THE U. S. OR THE U. S. MAY CLOSE SOME MARKETS TO JAPAN\n",
      "363 --> MARKETPLACE: IF INSIDE PEOPLE ARE NOT COMPETITIVE HOW CAN YOUR ORGANIZATION BE COMPETITIVE IN THE MARKETPLACE\n",
      "366 --> KATZENBACH: MR. KATZENBACH ACKNOWLEDGED THAT HIS PANEL'S RECOMMENDATIONS ARE LESS IMPORTANT TO THE FUTURE OF THE FINANCIAL MARKETS THAN THE BRADY COMMISSION'S REPORT WILL BE\n",
      "369 --> EXPIRATION: AND IT SAID TRADERS SHOULD BE ABLE TO DELIVER ACTUAL STOCKS TO SETTLE FUTURES CONTRACT OBLIGATIONS STOCK INDEX FUTURES CURRENTLY ARE SETTLED IN CASH UPON EXPIRATION\n",
      "371 --> EXTREME: ALTHOUGH MY FORECASTS MAY APPEAR TO BE EXTREME THEY'RE REALLY CONSERVATIVE\n",
      "372 --> METRIC: A METRIC TON IS EQUAL TO ABOUT TWO THOUSAND TWO HUNDRED FOUR POINT SIX TWO POUNDS\n",
      "373 --> CONCERNING: THE PANEL MADE SEVERAL OTHER RECOMMENDATIONS CONCERNING PROGRAM TRADING INCLUDING CONSOLIDATING REGULATORY AUTHORITY OVER ALL U. S. FINANCIAL MARKETS UNDER ONE GOVERNMENT AGENCY\n"
     ]
    }
   ],
   "source": [
    "for idx, line in enumerate(test_data):\n",
    "    for word in line.split():\n",
    "        if word not in train_words:\n",
    "            print('{} --> {}: {}'.format(idx, word, line))"
   ]
  },
  {
   "cell_type": "code",
   "execution_count": null,
   "metadata": {
    "collapsed": true
   },
   "outputs": [],
   "source": []
  }
 ],
 "metadata": {
  "kernelspec": {
   "display_name": "Python 3",
   "language": "python",
   "name": "python3"
  },
  "language_info": {
   "codemirror_mode": {
    "name": "ipython",
    "version": 3
   },
   "file_extension": ".py",
   "mimetype": "text/x-python",
   "name": "python",
   "nbconvert_exporter": "python",
   "pygments_lexer": "ipython3",
   "version": "3.5.1"
  }
 },
 "nbformat": 4,
 "nbformat_minor": 0
}
