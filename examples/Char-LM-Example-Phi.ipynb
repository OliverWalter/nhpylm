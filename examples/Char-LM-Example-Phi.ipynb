{
 "cells": [
  {
   "cell_type": "markdown",
   "metadata": {},
   "source": [
    "# Setup notebook, imports and predefined functions"
   ]
  },
  {
   "cell_type": "markdown",
   "metadata": {},
   "source": [
    "## Notebook magics"
   ]
  },
  {
   "cell_type": "code",
   "execution_count": 1,
   "metadata": {
    "collapsed": false
   },
   "outputs": [],
   "source": [
    "%load_ext autoreload\n",
    "%autoreload 2"
   ]
  },
  {
   "cell_type": "markdown",
   "metadata": {},
   "source": [
    "## Some imports"
   ]
  },
  {
   "cell_type": "code",
   "execution_count": 2,
   "metadata": {
    "collapsed": false
   },
   "outputs": [],
   "source": [
    "from nhpylm.lexicon import build_fst_for_lexicon\n",
    "import os\n",
    "from nhpylm.c_core import nhpylm\n",
    "from tqdm import tqdm\n",
    "from nhpylm import fst\n",
    "from nhpylm.kaldi_data_preparation import convert_transcription, word_to_grapheme\n",
    "import json\n",
    "from nhpylm import json_utils as ju"
   ]
  },
  {
   "cell_type": "markdown",
   "metadata": {},
   "source": [
    "## Output directory"
   ]
  },
  {
   "cell_type": "code",
   "execution_count": 3,
   "metadata": {
    "collapsed": false
   },
   "outputs": [],
   "source": [
    "output_directory = 'lattice_playground/c-l-e-p/'\n",
    "os.makedirs(output_directory, exist_ok=True)"
   ]
  },
  {
   "cell_type": "markdown",
   "metadata": {},
   "source": [
    "## Some predefined functions"
   ]
  },
  {
   "cell_type": "markdown",
   "metadata": {},
   "source": [
    "### Combined write and print/display function"
   ]
  },
  {
   "cell_type": "code",
   "execution_count": 4,
   "metadata": {
    "collapsed": false
   },
   "outputs": [],
   "source": [
    "def write_and_print_fst(fst_graph, fst_filename, sym_filename, **kwargs):\n",
    "    print_fst_kwargs = {'determinize': False}\n",
    "    print_fst_kwargs.update(kwargs)\n",
    "    fst_graph.write_fst(fst_filename, **print_fst_kwargs)\n",
    "    return fst.print(fst_filename, sym_filename, sym_filename)"
   ]
  },
  {
   "cell_type": "markdown",
   "metadata": {},
   "source": [
    "### Convert a list of sentences to a list of list of list of units:"
   ]
  },
  {
   "cell_type": "code",
   "execution_count": 5,
   "metadata": {
    "collapsed": false
   },
   "outputs": [],
   "source": [
    "def text_to_splitted_words(text):\n",
    "    return [convert_transcription(line, word_to_units=word_to_grapheme(join=False))[1] for line in text]"
   ]
  },
  {
   "cell_type": "markdown",
   "metadata": {},
   "source": [
    "### Return all unique units from the converted sentences"
   ]
  },
  {
   "cell_type": "code",
   "execution_count": 6,
   "metadata": {
    "collapsed": false
   },
   "outputs": [],
   "source": [
    "def find_symbols(text):\n",
    "    return {symbol for line in text for word in line for symbol in word}"
   ]
  },
  {
   "cell_type": "markdown",
   "metadata": {},
   "source": [
    "### Write a symbol list to a symbol file mapping all symbols to integers from 1 to N_symbols"
   ]
  },
  {
   "cell_type": "code",
   "execution_count": 7,
   "metadata": {
    "collapsed": false
   },
   "outputs": [],
   "source": [
    "def write_symbols(symbols, sym_file):\n",
    "    with open(sym_file, 'w') as fid:\n",
    "        for i, s in enumerate(symbols):\n",
    "            fid.write('{} {}\\n'.format(s, i))"
   ]
  },
  {
   "cell_type": "markdown",
   "metadata": {},
   "source": [
    "### convert a list of sentences of word ids to a list of list of character ids"
   ]
  },
  {
   "cell_type": "code",
   "execution_count": 8,
   "metadata": {
    "collapsed": true
   },
   "outputs": [],
   "source": [
    "def word_ids_to_char_ids(word_ids, wlm_order, clm_order, lm_order, int_eow, lm):\n",
    "    char_ids = []\n",
    "    for words in word_ids:\n",
    "        char_words = []\n",
    "        for word in words[wlm_order-1:]:\n",
    "            char_word = [int_eow] * (lm_order-1)\n",
    "            char_word.extend(lm.id2word(word)[clm_order-1:])\n",
    "            char_words.append(char_word)\n",
    "        char_ids.append(char_words)\n",
    "    return char_ids"
   ]
  },
  {
   "cell_type": "markdown",
   "metadata": {},
   "source": [
    "# Get train data, split into characters and get symbols"
   ]
  },
  {
   "cell_type": "code",
   "execution_count": 9,
   "metadata": {
    "collapsed": false
   },
   "outputs": [],
   "source": [
    "train_data = ['Martian Marsman', 'man on Mars']\n",
    "train_data_splitted = text_to_splitted_words(train_data)\n",
    "symbols = find_symbols(train_data_splitted)"
   ]
  },
  {
   "cell_type": "markdown",
   "metadata": {},
   "source": [
    "# Instantiate dictionary and transform training sentences"
   ]
  },
  {
   "cell_type": "code",
   "execution_count": 10,
   "metadata": {
    "collapsed": false
   },
   "outputs": [],
   "source": [
    "wc_lm = nhpylm.NHPYLM_wrapper(list(symbols), 1, 1)\n",
    "train_data_word_ids = wc_lm.word_lists_to_id_lists(train_data_splitted)"
   ]
  },
  {
   "cell_type": "markdown",
   "metadata": {},
   "source": [
    "# Write symbol file"
   ]
  },
  {
   "cell_type": "code",
   "execution_count": 11,
   "metadata": {
    "collapsed": false
   },
   "outputs": [],
   "source": [
    "sym_filename = output_directory + 'symbols.txt'\n",
    "word_list = wc_lm.string_ids\n",
    "\n",
    "write_symbols(word_list, sym_filename)"
   ]
  },
  {
   "cell_type": "markdown",
   "metadata": {},
   "source": [
    "# Get int versions of lexicon and labels"
   ]
  },
  {
   "cell_type": "code",
   "execution_count": 12,
   "metadata": {
    "collapsed": false
   },
   "outputs": [],
   "source": [
    "int_lexicon = wc_lm.get_word_id_to_char_id()\n",
    "int_eos_word = wc_lm.sentence_boundary_id\n",
    "int_labels = wc_lm.get_char_ids()\n",
    "int_eps = wc_lm.sym2id('EPS')\n",
    "int_eow = wc_lm.sym2id('EOW')\n",
    "int_eoc = wc_lm.sym2id('EOC')\n",
    "int_phi = wc_lm.sym2id('PHI')\n",
    "int_eos_label = wc_lm.sym2id('EOS')"
   ]
  },
  {
   "cell_type": "markdown",
   "metadata": {},
   "source": [
    "## Instantiate character LM, add training sentences and resample hyper parameters"
   ]
  },
  {
   "cell_type": "code",
   "execution_count": 13,
   "metadata": {
    "collapsed": false
   },
   "outputs": [],
   "source": [
    "c_lm = nhpylm.NHPYLM_wrapper([], 8, 0, 1/(len(symbols) + 2), 'EOW')\n",
    "train_data_char_ids = word_ids_to_char_ids(train_data_word_ids, 1, 1, 8, int_eow, wc_lm)"
   ]
  },
  {
   "cell_type": "code",
   "execution_count": 14,
   "metadata": {
    "collapsed": false
   },
   "outputs": [
    {
     "name": "stderr",
     "output_type": "stream",
     "text": []
    }
   ],
   "source": [
    "for line in tqdm(train_data_char_ids):\n",
    "    for word in line:\n",
    "        c_lm.add_id_sentence_to_lm(word)"
   ]
  },
  {
   "cell_type": "markdown",
   "metadata": {},
   "source": [
    "# Get FST for language model"
   ]
  },
  {
   "cell_type": "code",
   "execution_count": 15,
   "metadata": {
    "collapsed": false
   },
   "outputs": [
    {
     "name": "stderr",
     "output_type": "stream",
     "text": []
    },
    {
     "data": {
      "text/html": [
       "<iframe src=\"lattice_playground/c-l-e-p/G.fst.pdf\" width=1000 height=400></iframe>"
      ],
      "text/latex": [
       "\\includegraphics[width=1.0\\textwidth]{lattice_playground/c-l-e-p/G.fst.pdf}"
      ],
      "text/plain": [
       "<nt.visualization.display_pdf.PDF at 0x7f76395f0a20>"
      ]
     },
     "execution_count": 15,
     "metadata": {},
     "output_type": "execute_result"
    }
   ],
   "source": [
    "G_fst_filename = output_directory + 'G.fst'\n",
    "_, arc_list = c_lm.to_fst_text_format(eow=int_eoc, return_to_start=True)\n",
    "G_fst = fst.build_fst_from_arc_list(arc_list)\n",
    "G_fst.write_fst(G_fst_filename, minimize=False, determinize=False, rmepsilon=False)\n",
    "fst.print(G_fst_filename, sym_filename, sym_filename)"
   ]
  },
  {
   "cell_type": "markdown",
   "metadata": {},
   "source": [
    "# Character sequence"
   ]
  },
  {
   "cell_type": "markdown",
   "metadata": {},
   "source": [
    "## Some character sequence"
   ]
  },
  {
   "cell_type": "code",
   "execution_count": 16,
   "metadata": {
    "collapsed": false
   },
   "outputs": [],
   "source": [
    "character_sequence = 'MartianMarsman'"
   ]
  },
  {
   "cell_type": "markdown",
   "metadata": {},
   "source": [
    "## Build and print FST for character sequence"
   ]
  },
  {
   "cell_type": "code",
   "execution_count": 17,
   "metadata": {
    "collapsed": false
   },
   "outputs": [
    {
     "data": {
      "text/html": [
       "<iframe src=\"lattice_playground/c-l-e-p/I.fst.pdf\" width=1000 height=400></iframe>"
      ],
      "text/latex": [
       "\\includegraphics[width=1.0\\textwidth]{lattice_playground/c-l-e-p/I.fst.pdf}"
      ],
      "text/plain": [
       "<nt.visualization.display_pdf.PDF at 0x7f763960bd68>"
      ]
     },
     "execution_count": 17,
     "metadata": {},
     "output_type": "execute_result"
    }
   ],
   "source": [
    "int_sequence = [wc_lm.sym2id(character) for character in character_sequence]\n",
    "\n",
    "I_fst_filename = output_directory + 'I.fst'\n",
    "character_sequence_fst = fst.build_fst_for_sequence(int_sequence + [int_eos_label])\n",
    "write_and_print_fst(character_sequence_fst, I_fst_filename, sym_filename, minimize=False, determinize=False)"
   ]
  },
  {
   "cell_type": "markdown",
   "metadata": {},
   "source": [
    "## Add loops for word end/disambigutity symbols (eow and eoc)"
   ]
  },
  {
   "cell_type": "code",
   "execution_count": 18,
   "metadata": {
    "collapsed": false
   },
   "outputs": [
    {
     "data": {
      "text/html": [
       "<iframe src=\"lattice_playground/c-l-e-p/I_loop.fst.pdf\" width=1000 height=400></iframe>"
      ],
      "text/latex": [
       "\\includegraphics[width=1.0\\textwidth]{lattice_playground/c-l-e-p/I_loop.fst.pdf}"
      ],
      "text/plain": [
       "<nt.visualization.display_pdf.PDF at 0x7f763960beb8>"
      ]
     },
     "execution_count": 18,
     "metadata": {},
     "output_type": "execute_result"
    }
   ],
   "source": [
    "I_loop_fst_filename = output_directory + 'I_loop.fst'\n",
    "character_sequence_fst.add_self_loops(int_eps, int_eow, int_eow, mode='after')\n",
    "character_sequence_fst.add_self_loops(int_eps, int_eoc, int_eoc, mode='after')\n",
    "write_and_print_fst(character_sequence_fst, I_loop_fst_filename, sym_filename, minimize=False, determinize=False)"
   ]
  },
  {
   "cell_type": "markdown",
   "metadata": {},
   "source": [
    "# Do the final compositions"
   ]
  },
  {
   "cell_type": "markdown",
   "metadata": {},
   "source": [
    "## Compose input sequence FST with language model FST"
   ]
  },
  {
   "cell_type": "code",
   "execution_count": 19,
   "metadata": {
    "collapsed": false
   },
   "outputs": [
    {
     "data": {
      "text/html": [
       "<iframe src=\"lattice_playground/c-l-e-p/I_loop_G.fst.pdf\" width=1000 height=400></iframe>"
      ],
      "text/latex": [
       "\\includegraphics[width=1.0\\textwidth]{lattice_playground/c-l-e-p/I_loop_G.fst.pdf}"
      ],
      "text/plain": [
       "<nt.visualization.display_pdf.PDF at 0x7f763960b8d0>"
      ]
     },
     "execution_count": 19,
     "metadata": {},
     "output_type": "execute_result"
    }
   ],
   "source": [
    "I_loop_G_fst_filename = output_directory + 'I_loop_G.fst'\n",
    "fst.compose(I_loop_fst_filename, G_fst_filename, I_loop_G_fst_filename,\n",
    "            determinize=False, minimize=False, rmepsilon=False, phi=int_phi)\n",
    "fst.print(I_loop_G_fst_filename, sym_filename, sym_filename)"
   ]
  },
  {
   "cell_type": "markdown",
   "metadata": {},
   "source": [
    "## Get shortest path(s)"
   ]
  },
  {
   "cell_type": "code",
   "execution_count": 20,
   "metadata": {
    "collapsed": false
   },
   "outputs": [
    {
     "data": {
      "text/html": [
       "<iframe src=\"lattice_playground/c-l-e-p/I_loop_G_shortestpath.fst.pdf\" width=1000 height=400></iframe>"
      ],
      "text/latex": [
       "\\includegraphics[width=1.0\\textwidth]{lattice_playground/c-l-e-p/I_loop_G_shortestpath.fst.pdf}"
      ],
      "text/plain": [
       "<nt.visualization.display_pdf.PDF at 0x7f763960be48>"
      ]
     },
     "execution_count": 20,
     "metadata": {},
     "output_type": "execute_result"
    }
   ],
   "source": [
    "I_loop_G_shortestpath_fst_filename = output_directory + 'I_loop_G_shortestpath.fst'\n",
    "fst.shortestpath(I_loop_G_fst_filename, I_loop_G_shortestpath_fst_filename, nshortest=1,\n",
    "            determinize=False, minimize=False, rmepsilon=True, project=True, project_output=True)\n",
    "fst.print(I_loop_G_shortestpath_fst_filename, sym_filename, sym_filename)"
   ]
  },
  {
   "cell_type": "code",
   "execution_count": null,
   "metadata": {
    "collapsed": false
   },
   "outputs": [],
   "source": []
  }
 ],
 "metadata": {
  "kernelspec": {
   "display_name": "Python 3",
   "language": "python",
   "name": "python3"
  },
  "language_info": {
   "codemirror_mode": {
    "name": "ipython",
    "version": 3
   },
   "file_extension": ".py",
   "mimetype": "text/x-python",
   "name": "python",
   "nbconvert_exporter": "python",
   "pygments_lexer": "ipython3",
   "version": "3.5.1"
  }
 },
 "nbformat": 4,
 "nbformat_minor": 0
}
